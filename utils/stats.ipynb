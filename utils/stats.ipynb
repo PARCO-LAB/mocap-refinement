{
 "cells": [
  {
   "cell_type": "code",
   "execution_count": 1,
   "id": "057aafaa",
   "metadata": {},
   "outputs": [],
   "source": [
    "import numpy as np\n",
    "import pandas as pd\n",
    "import os"
   ]
  },
  {
   "cell_type": "code",
   "execution_count": 2,
   "id": "2068ad39",
   "metadata": {},
   "outputs": [],
   "source": [
    "basepath = '../tmp/'\n",
    "errors = [\n",
    "    \"low_error_jitter\",\n",
    "    \"high_error_jitter\",\n",
    "    \"missing_keypoints\",\n",
    "    \"missing_frames\",\n",
    "    \"missing_keypoints_with_error\",\n",
    "    \"missing_frames_with_error\"\n",
    "]\n",
    "\n",
    "filters = {\n",
    "    # General Purpose\n",
    "    \"baseline\":{\"name\":\"Baseline\",\"category\":\"\"},\n",
    "    \"SMA\":{\"name\":\"Simple Moving Average\",\"category\":\"General Purpose\"},\n",
    "    \"WMA\":{\"name\":\"Weighted Moving Average\",\"category\":\"General Purpose\"},\n",
    "    \"EMA\":{\"name\":\"Exponential Moving Average\",\"category\":\"General Purpose\"},\n",
    "    \"HDE\":{\"name\":\"HDE\",\"category\":\"General Purpose\"},\n",
    "    \"BF\":{\"name\":\"Butterworth\",\"category\":\"General Purpose\"},\n",
    "    \"SG\":{\"name\":\"Savitzky–Golay\",\"category\":\"General Purpose\"},\n",
    "    \"INT\":{\"name\":\"Interpolation\",\"category\":\"General Purpose\"},\n",
    "    \"LSG\":{\"name\":\"Least Squares Gaussian\",\"category\":\"General Purpose\"},\n",
    "    # State Observer\n",
    "    \"KF0\":{\"name\":\"Kalman Filter (0th)\",\"category\":\"State Observer\"},\n",
    "    \"KF1\":{\"name\":\"Kalman Filter (1st)\",\"category\":\"State Observer\"},\n",
    "    \"KF2\":{\"name\":\"Kalman Filter (2nd)\",\"category\":\"State Observer\"},\n",
    "    # Dimensionality Reduction\n",
    "    \"TSVD\":{\"name\":\"Truncated Singular Value Decomposition\",\"category\":\"Dimensionality Reduction\"},\n",
    "    \"LRMC\":{\"name\":\"Low-Rank Matrix Completion\",\"category\":\"Dimensionality Reduction\"},\n",
    "    \"NLRMC\":{\"name\":\"Noisy Low-Rank Matrix Completion\",\"category\":\"Dimensionality Reduction\"},\n",
    "    \"RPCA\":{\"name\":\"Robust Principal Component Analysis\",\"category\":\"Dimensionality Reduction\"},\n",
    "    # DNN\n",
    "    \"UAE\":{\"name\":\"Undercomplete Autoencoder\",\"category\":\"Deep Neural Network\"},\n",
    "    \"UDAE\":{\"name\":\"Undercomplete Denoising Autoencoder\",\"category\":\"Deep Neural Network\"},\n",
    "    \"RNN\":{\"name\":\"Recurrent Neural Network Autoencoder\",\"category\":\"Deep Neural Network\"},\n",
    "    # Hybrids\n",
    "    \"KF+DE\":{\"name\":\"KF+DE\",\"category\":\"Hybrids\"},\n",
    "}"
   ]
  },
  {
   "cell_type": "code",
   "execution_count": null,
   "id": "d3cecaab",
   "metadata": {},
   "outputs": [],
   "source": [
    "header = [\"Category\",\"Method\"]\n",
    "for e in errors:\n",
    "    header += [\"MPJPE \" + e.replace(\"_\",\" \").capitalize(), \"Accel \" + e.replace(\"_\",\" \").capitalize()]\n",
    "df = pd.DataFrame(columns=header)\n",
    "\n",
    "for filter in filters.keys():\n",
    "    row = [filters[filter][\"category\"],filters[filter][\"name\"]]\n",
    "    for error in errors:\n",
    "        filename = os.path.join(basepath,error,filter+\".csv\")\n",
    "        if os.path.isfile(filename):\n",
    "            file = pd.read_csv(filename)\n",
    "            \n",
    "            row += np.round(np.mean(file.iloc[:,:].values,axis=0),1).tolist()\n",
    "        else:\n",
    "            row += [np.nan,np.nan]\n",
    "    df.loc[-1] = row\n",
    "    df.index = df.index + 1\n",
    "            "
   ]
  },
  {
   "cell_type": "code",
   "execution_count": null,
   "id": "49c43e61",
   "metadata": {},
   "outputs": [],
   "source": [
    "df.reset_index(drop=True,inplace=True) \n",
    "df = df.fillna(value=\"-\")\n",
    "df.drop(columns=['MPJPE Missing frames', 'Accel Missing frames'],inplace=True)\n",
    "df.drop(columns=['MPJPE Missing frames with error', 'Accel Missing frames with error'],inplace=True)\n",
    "print(df.shape)\n",
    "df"
   ]
  },
  {
   "cell_type": "code",
   "execution_count": null,
   "id": "6c14c8bf",
   "metadata": {},
   "outputs": [],
   "source": [
    "df.to_csv(os.path.join(basepath,'stats.csv'),index=False)"
   ]
  },
  {
   "cell_type": "code",
   "execution_count": null,
   "id": "896f93a3",
   "metadata": {},
   "outputs": [],
   "source": [
    "df = pd.read_csv(os.path.join(basepath,'stats.csv'))"
   ]
  },
  {
   "cell_type": "code",
   "execution_count": null,
   "id": "ce6fdc69",
   "metadata": {},
   "outputs": [
    {
     "data": {
      "text/plain": [
       "'<table border=\"1\" class=\"dataframe\">\\n  <thead>\\n    <tr style=\"text-align: right;\">\\n      <th>Category</th>\\n      <th>Method</th>\\n      <th>MPJPE Low error jitter</th>\\n      <th>Accel Low error jitter</th>\\n      <th>MPJPE High error jitter</th>\\n      <th>Accel High error jitter</th>\\n      <th>MPJPE Missing keypoints</th>\\n      <th>Accel Missing keypoints</th>\\n      <th>MPJPE Missing keypoints with error</th>\\n      <th>Accel Missing keypoints with error</th>\\n    </tr>\\n  </thead>\\n  <tbody>\\n    <tr>\\n      <td>NaN</td>\\n      <td>Baseline</td>\\n      <td>96.1</td>\\n      <td>230.0</td>\\n      <td>146.3</td>\\n      <td>381.9</td>\\n      <td>-</td>\\n      <td>-</td>\\n      <td>-</td>\\n      <td>-</td>\\n    </tr>\\n    <tr>\\n      <td>General Purpose</td>\\n      <td>Simple Moving Average</td>\\n      <td>74.6</td>\\n      <td>11.5</td>\\n      <td>85.0</td>\\n      <td>19.7</td>\\n      <td>-</td>\\n      <td>-</td>\\n      <td>-</td>\\n      <td>-</td>\\n    </tr>\\n    <tr>\\n      <td>General Purpose</td>\\n      <td>Weighted Moving Average</td>\\n      <td>76.8</td>\\n      <td>4.4</td>\\n      <td>88.7</td>\\n      <td>7.0</td>\\n      <td>-</td>\\n      <td>-</td>\\n      <td>-</td>\\n      <td>-</td>\\n    </tr>\\n    <tr>\\n      <td>General Purpose</td>\\n      <td>Exponential Moving Average</td>\\n      <td>55.4</td>\\n      <td>85.8</td>\\n      <td>89.6</td>\\n      <td>140.8</td>\\n      <td>-</td>\\n      <td>-</td>\\n      <td>-</td>\\n      <td>-</td>\\n    </tr>\\n    <tr>\\n      <td>General Purpose</td>\\n      <td>HDE</td>\\n      <td>63.0</td>\\n      <td>92.3</td>\\n      <td>102.6</td>\\n      <td>151.4</td>\\n      <td>-</td>\\n      <td>-</td>\\n      <td>-</td>\\n      <td>-</td>\\n    </tr>\\n    <tr>\\n      <td>General Purpose</td>\\n      <td>Butterworth</td>\\n      <td>24.8</td>\\n      <td>3.0</td>\\n      <td>41.5</td>\\n      <td>5.0</td>\\n      <td>-</td>\\n      <td>-</td>\\n      <td>-</td>\\n      <td>-</td>\\n    </tr>\\n    <tr>\\n      <td>General Purpose</td>\\n      <td>Savitzky–Golay</td>\\n      <td>63.3</td>\\n      <td>116.7</td>\\n      <td>102.1</td>\\n      <td>194.5</td>\\n      <td>-</td>\\n      <td>-</td>\\n      <td>-</td>\\n      <td>-</td>\\n    </tr>\\n    <tr>\\n      <td>General Purpose</td>\\n      <td>Interpolation</td>\\n      <td>-</td>\\n      <td>-</td>\\n      <td>-</td>\\n      <td>-</td>\\n      <td>0.3</td>\\n      <td>1.1</td>\\n      <td>244.8</td>\\n      <td>634.0</td>\\n    </tr>\\n    <tr>\\n      <td>General Purpose</td>\\n      <td>Least Squares Gaussian</td>\\n      <td>62.7</td>\\n      <td>17.2</td>\\n      <td>78.4</td>\\n      <td>19.4</td>\\n      <td>-</td>\\n      <td>-</td>\\n      <td>-</td>\\n      <td>-</td>\\n    </tr>\\n    <tr>\\n      <td>State Observer</td>\\n      <td>Kalman Filter (0th)</td>\\n      <td>46.4</td>\\n      <td>29.4</td>\\n      <td>66.0</td>\\n      <td>48.3</td>\\n      <td>30.1</td>\\n      <td>2.8</td>\\n      <td>48.7</td>\\n      <td>29.6</td>\\n    </tr>\\n    <tr>\\n      <td>State Observer</td>\\n      <td>Kalman Filter (1st)</td>\\n      <td>42.3</td>\\n      <td>33.0</td>\\n      <td>65.9</td>\\n      <td>54.2</td>\\n      <td>21.4</td>\\n      <td>2.4</td>\\n      <td>44.2</td>\\n      <td>33.2</td>\\n    </tr>\\n    <tr>\\n      <td>State Observer</td>\\n      <td>Kalman Filter (2nd)</td>\\n      <td>43.1</td>\\n      <td>35.7</td>\\n      <td>68.8</td>\\n      <td>58.7</td>\\n      <td>19.0</td>\\n      <td>2.4</td>\\n      <td>45.0</td>\\n      <td>36.0</td>\\n    </tr>\\n    <tr>\\n      <td>Dimensionality Reduction</td>\\n      <td>Truncated Singular Value Decomposition</td>\\n      <td>64.0</td>\\n      <td>143.7</td>\\n      <td>98.3</td>\\n      <td>226.6</td>\\n      <td>-</td>\\n      <td>-</td>\\n      <td>-</td>\\n      <td>-</td>\\n    </tr>\\n    <tr>\\n      <td>Dimensionality Reduction</td>\\n      <td>Low-Rank Matrix Completion</td>\\n      <td>-</td>\\n      <td>-</td>\\n      <td>-</td>\\n      <td>-</td>\\n      <td>4.9</td>\\n      <td>16.7</td>\\n      <td>92.5</td>\\n      <td>219.7</td>\\n    </tr>\\n    <tr>\\n      <td>Dimensionality Reduction</td>\\n      <td>Noisy Low-Rank Matrix Completion</td>\\n      <td>-</td>\\n      <td>-</td>\\n      <td>-</td>\\n      <td>-</td>\\n      <td>32.3</td>\\n      <td>109.4</td>\\n      <td>111.1</td>\\n      <td>267.8</td>\\n    </tr>\\n    <tr>\\n      <td>Dimensionality Reduction</td>\\n      <td>Robust Principal Component Analysis</td>\\n      <td>79.8</td>\\n      <td>182.0</td>\\n      <td>90.2</td>\\n      <td>207.7</td>\\n      <td>-</td>\\n      <td>-</td>\\n      <td>-</td>\\n      <td>-</td>\\n    </tr>\\n    <tr>\\n      <td>Deep Neural Network</td>\\n      <td>Undercomplete Autoencoder</td>\\n      <td>83.6</td>\\n      <td>197.7</td>\\n      <td>128.0</td>\\n      <td>331.0</td>\\n      <td>-</td>\\n      <td>-</td>\\n      <td>-</td>\\n      <td>-</td>\\n    </tr>\\n    <tr>\\n      <td>Deep Neural Network</td>\\n      <td>Undercomplete Denoising Autoencoder</td>\\n      <td>59.5</td>\\n      <td>89.5</td>\\n      <td>92.0</td>\\n      <td>75.6</td>\\n      <td>-</td>\\n      <td>-</td>\\n      <td>-</td>\\n      <td>-</td>\\n    </tr>\\n    <tr>\\n      <td>Deep Neural Network</td>\\n      <td>Recurrent Neural Network Autoencoder</td>\\n      <td>89.5</td>\\n      <td>34.8</td>\\n      <td>136.2</td>\\n      <td>40.8</td>\\n      <td>-</td>\\n      <td>-</td>\\n      <td>-</td>\\n      <td>-</td>\\n    </tr>\\n    <tr>\\n      <td>Hybrids</td>\\n      <td>KF+DE</td>\\n      <td>76.9</td>\\n      <td>102.2</td>\\n      <td>138.0</td>\\n      <td>174.3</td>\\n      <td>-</td>\\n      <td>-</td>\\n      <td>-</td>\\n      <td>-</td>\\n    </tr>\\n  </tbody>\\n</table>'"
      ]
     },
     "execution_count": 8,
     "metadata": {},
     "output_type": "execute_result"
    }
   ],
   "source": [
    "df.to_html(index=False,na_rep='')"
   ]
  }
 ],
 "metadata": {
  "kernelspec": {
   "display_name": ".venv",
   "language": "python",
   "name": "python3"
  },
  "language_info": {
   "codemirror_mode": {
    "name": "ipython",
    "version": 3
   },
   "file_extension": ".py",
   "mimetype": "text/x-python",
   "name": "python",
   "nbconvert_exporter": "python",
   "pygments_lexer": "ipython3",
   "version": "3.10.12"
  }
 },
 "nbformat": 4,
 "nbformat_minor": 5
}
